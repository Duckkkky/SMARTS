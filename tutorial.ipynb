{
 "cells": [
  {
   "cell_type": "markdown",
   "metadata": {},
   "source": [
    "## classmethod 类方法"
   ]
  },
  {
   "cell_type": "code",
   "execution_count": 2,
   "metadata": {},
   "outputs": [],
   "source": [
    "class info(object):\n",
    "\n",
    "    @classmethod\n",
    "    def sayclassmethod(cls):\n",
    "  \n",
    "        print('say %s' % cls)\n",
    "  \n",
    "    def saymethod(self):\n",
    "\n",
    "        print('say %s' % self)"
   ]
  },
  {
   "cell_type": "code",
   "execution_count": 4,
   "metadata": {},
   "outputs": [
    {
     "name": "stdout",
     "output_type": "stream",
     "text": [
      "say <__main__.info object at 0x7fac86a35dc0>\n",
      "say <class '__main__.info'>\n",
      "say <__main__.info object at 0x7fac86a35dc0>\n",
      "say <class '__main__.info'>\n"
     ]
    }
   ],
   "source": [
    "test = info()\n",
    "test.saymethod()        ##实例调用方法\n",
    "test.sayclassmethod()   ##实例调用类方法\n",
    "info.saymethod(test)    ##类调用实例方法\n",
    "info.sayclassmethod()   ##类调用类方法"
   ]
  },
  {
   "cell_type": "markdown",
   "metadata": {},
   "source": [
    "## 类的装饰器@property"
   ]
  },
  {
   "cell_type": "code",
   "execution_count": 5,
   "metadata": {},
   "outputs": [
    {
     "name": "stdout",
     "output_type": "stream",
     "text": [
      "101\n"
     ]
    }
   ],
   "source": [
    "class Pager:\n",
    "    def __init__(self,all_count):\n",
    "        self.all_count=all_count\n",
    "    @property         #装饰器装饰\n",
    "    def all_pager(self):\n",
    "        a,b=divmod(self.all_count,10)\n",
    "        if a==0:\n",
    "            return a\n",
    "        else:\n",
    "            return  a+1\n",
    "\n",
    "    @all_pager.setter  #注意名称，是上面被装饰器装饰的方法\n",
    "    def all_pager(self,value):  #方法名称与上面的相同\n",
    "        print(value)\n",
    "\n",
    "    @all_pager.deleter    #注意名称\n",
    "    def all_pager(self):  #名称与上面保持一致\n",
    "        print('hehe')\n",
    "p=Pager(101)\n",
    "ret=p.all_count#以访问类属性的方法访问对象的方法\n",
    "print(ret)"
   ]
  },
  {
   "cell_type": "code",
   "execution_count": 6,
   "metadata": {},
   "outputs": [
    {
     "name": "stdout",
     "output_type": "stream",
     "text": [
      "======\n",
      "123\n",
      "+++++++\n"
     ]
    }
   ],
   "source": [
    "class Pager:\n",
    "    def __init__(self,all_count):\n",
    "        self.all_count=all_count\n",
    "    def f1(self):\n",
    "        return 123\n",
    "    def f2(self,value):\n",
    "        print('======')\n",
    "    def f3(self):\n",
    "        print('+++++++')\n",
    "\n",
    "    foo=property(fget=f1,fset=f2,fdel=f3)\n",
    "p=Pager(101)\n",
    "ret=p.foo\n",
    "p.foo='alex'\n",
    "print(p.foo)\n",
    "del p.foo"
   ]
  },
  {
   "cell_type": "markdown",
   "metadata": {},
   "source": [
    "## 类的多重继承"
   ]
  },
  {
   "cell_type": "code",
   "execution_count": 14,
   "metadata": {},
   "outputs": [
    {
     "name": "stdout",
     "output_type": "stream",
     "text": [
      "ken is speaking: I am 20 years old,and I am in grade 3\n",
      "I am Tim, I am a speaker! My topic is Python\n"
     ]
    }
   ],
   "source": [
    "class people:\n",
    "    def __init__(self,n,a,w):\n",
    "        self.name = n\n",
    "        self.age = a\n",
    "        self.weight = w\n",
    "    def speak(self):\n",
    "        print(\"my name\" + self.Name)\n",
    "\n",
    "        \n",
    "class student(people):\n",
    "    grade = ''\n",
    "    def __init__(self,n,a,w,g):\n",
    "        #调用父类的构函\n",
    "        people.__init__(self,n,a,w)\n",
    "        self.grade = g\n",
    "    #覆写父类的方法\n",
    "    def speak(self):\n",
    "        print(\"%s is speaking: I am %d years old,and I am in grade %d\"%(self.name,self.age,self.grade))\n",
    "\n",
    "        \n",
    "s = student('ken',20,60,3)\n",
    "s.speak()\n",
    "    \n",
    "    \n",
    "class speaker():\n",
    "    topic = ''\n",
    "    name = ''\n",
    "    def __init__(self,n,t):\n",
    "        self.name = n\n",
    "        self.topic = t\n",
    "    def speak(self):\n",
    "        print(\"I am %s, I am a speaker! My topic is %s\" % (self.name,self.topic))\n",
    "\n",
    "        \n",
    "class sample(speaker,student):\n",
    "    a =''\n",
    "    def __init__(self,n,a,w,g,t):\n",
    "        student.__init__(self,n,a,w,g)\n",
    "        speaker.__init__(self,n,t)\n",
    "\n",
    "test = sample(\"Tim\",25,80,4,\"Python\")\n",
    "test.speak() #方法同名，默认调用的是在括号中排前的父类的方法"
   ]
  },
  {
   "cell_type": "markdown",
   "metadata": {},
   "source": [
    "## 类的专业方法"
   ]
  },
  {
   "cell_type": "code",
   "execution_count": 16,
   "metadata": {},
   "outputs": [
    {
     "name": "stdout",
     "output_type": "stream",
     "text": [
      "Badboy\n"
     ]
    }
   ],
   "source": [
    "# __init__\n",
    "\n",
    "class Study:\n",
    "    def __init__(self,name=None):\n",
    "        self.name = name\n",
    "    def say(self):\n",
    "        print(self.name)\n",
    "        \n",
    "study = Study(\"Badboy\")\n",
    "study.say()"
   ]
  },
  {
   "cell_type": "code",
   "execution_count": 17,
   "metadata": {},
   "outputs": [
    {
     "name": "stdout",
     "output_type": "stream",
     "text": [
      "zhuzhengjun\n"
     ]
    }
   ],
   "source": [
    "# __del__\n",
    "\n",
    "class Study:\n",
    "    def __init__(self,name=None):\n",
    "        self.name = name\n",
    "    def __del__(self):\n",
    "        print(\"Iamaway,baby!\")\n",
    "    def say(self):\n",
    "        print(self.name)\n",
    "\n",
    "study = Study(\"zhuzhengjun\")\n",
    "study.say()"
   ]
  },
  {
   "cell_type": "code",
   "execution_count": 30,
   "metadata": {},
   "outputs": [
    {
     "name": "stdout",
     "output_type": "stream",
     "text": [
      "类对象 140378830050688\n",
      "实例对象:张三 140378970133360\n",
      "python解释器开始回收张三对象了\n",
      "实例对象张三: 140378970729824\n",
      "------------\n",
      "实例对象:李四 140378970730208\n",
      "python解释器开始回收李四对象了\n",
      "实例对象李四: 140378970833200\n"
     ]
    }
   ],
   "source": [
    "class Person(object):\n",
    "    def __init__(self,name):\n",
    "        self.name = name\n",
    "    def __del__(self):\n",
    "        print(\"实例对象:%s\"%self.name,id(self))\n",
    "        print(\"python解释器开始回收%s对象了\" % self.name)\n",
    "\n",
    "print(\"类对象\",id(Person))\n",
    "zhangsan  = Person(\"张三\")\n",
    "print(\"实例对象张三:\",id(zhangsan))\n",
    "print(\"------------\")\n",
    "lisi  = Person(\"李四\")\n",
    "print(\"实例对象李四:\",id(lisi))"
   ]
  },
  {
   "cell_type": "code",
   "execution_count": 29,
   "metadata": {},
   "outputs": [
    {
     "name": "stdout",
     "output_type": "stream",
     "text": [
      "Iamaway,baby!\n",
      "zhuzhengjun\n",
      "Iamaway,baby!\n",
      "<class 'str'>\n",
      "Iamaway,baby!\n",
      "Iamaway,baby!\n",
      "<class '__main__.Study'>\n",
      "Iamaway,baby!\n",
      "Iamaway,baby!\n"
     ]
    }
   ],
   "source": [
    "# __repr__\n",
    "\n",
    "class Study:\n",
    "    def __init__(self,name=None):\n",
    "        self.name = name\n",
    "    def __del__(self):\n",
    "        print(\"Iamaway,baby!\")\n",
    "    def say(self):\n",
    "        print(self.name)\n",
    "    def __repr__(self):\n",
    "        return \"Study('jacky')\"\n",
    "    \n",
    "    \n",
    "study = Study(\"zhuzhengjun\")\n",
    "study.say()\n",
    "print(type(repr(Study(\"zhuzhengjun\")))) # str\n",
    "print(type(eval(repr(Study(\"zhuzhengjun\"))))) # instance\n",
    "\n",
    "study = eval(repr(Study(\"zhuzhengjun\")))"
   ]
  },
  {
   "cell_type": "code",
   "execution_count": 33,
   "metadata": {},
   "outputs": [
    {
     "name": "stdout",
     "output_type": "stream",
     "text": [
      "Enter phone number in the form. (123) 456-7890: \n",
      "(001) 828-6863\n",
      "The phone number is:\n",
      "(001) 828-6863\n"
     ]
    }
   ],
   "source": [
    "# __str__\n",
    "\n",
    "class PhoneNumber:\n",
    "    def __init__(self,number):\n",
    "        self.areaCode=number[1:4]\n",
    "        self.exchange=number[6:9]\n",
    "        self.line=number[10:14]\n",
    "\n",
    "    def __str__(self):\n",
    "        return \"(%s) %s-%s\"%(self.areaCode,self.exchange,self.line)\n",
    "\n",
    "def test():\n",
    "    newNumber = input(\"Enter phone number in the form. (123) 456-7890: \\n\")\n",
    "    phone=PhoneNumber(newNumber)\n",
    "    print(\"The phone number is:\")\n",
    "    print(phone)\n",
    "\n",
    "\n",
    "test()"
   ]
  },
  {
   "cell_type": "code",
   "execution_count": 45,
   "metadata": {},
   "outputs": [
    {
     "name": "stdout",
     "output_type": "stream",
     "text": [
      "p1 < p2:\n",
      "  result of p1 < p2: True\n",
      "p1 <= p2:\n",
      "  result of p1 <= p2: True\n",
      "p1 == p2:\n",
      "  result of p1 == p2: False\n",
      "p1 >= p2:\n",
      "  result of p1 >= p2: False\n",
      "p1 > p2:\n",
      "  result of p1 > p2: False\n"
     ]
    }
   ],
   "source": [
    "# __eq__, __ne__, __lt__, __gt__ \n",
    "\n",
    "\n",
    "from functools import total_ordering\n",
    "\n",
    "\n",
    "@total_ordering\n",
    "class Point:\n",
    "    def __init__(self, x, y):\n",
    "        self.x = x\n",
    "        self.y = y\n",
    "\n",
    "    def __eq__(self, other):\n",
    "        return (self.x, self.y) == (other.x, other.y)\n",
    "\n",
    "    def __lt__(self, other):\n",
    "        return (self.x, self.y) < (other.x, other.y)\n",
    "\n",
    "\n",
    "p1 = Point(1, 4)\n",
    "p2 = Point(2, 3)\n",
    "for expr in ['p1 < p2', 'p1 <= p2', 'p1 == p2', 'p1 >= p2', 'p1 > p2']:\n",
    "    print('{:<}:'.format(expr))\n",
    "    result = eval(expr)\n",
    "    print('  result of {}: {}'.format(expr, result))"
   ]
  },
  {
   "cell_type": "code",
   "execution_count": 41,
   "metadata": {},
   "outputs": [
    {
     "name": "stdout",
     "output_type": "stream",
     "text": [
      "dog\n",
      "pig\n",
      "wolf\n"
     ]
    }
   ],
   "source": [
    "# __getitem__\n",
    "\n",
    "class Zoo:\n",
    "    def __getitem__(self, key):\n",
    "        if key == 'dog':return 'dog'\n",
    "        elif key == 'pig':return  'pig'\n",
    "        elif key == 'wolf':return 'wolf'\n",
    "        else:return 'unknown'\n",
    "\n",
    "zoo = Zoo()\n",
    "print(zoo['dog'])\n",
    "print(zoo['pig'])\n",
    "print(zoo['wolf'])"
   ]
  },
  {
   "cell_type": "code",
   "execution_count": 42,
   "metadata": {},
   "outputs": [
    {
     "name": "stdout",
     "output_type": "stream",
     "text": [
      "key=a,value=a\n",
      "key=b,value=b\n",
      "key=c,value=c\n"
     ]
    }
   ],
   "source": [
    "# __setitem__\n",
    "\n",
    "class Zoo:\n",
    "    def __setitem__(self, key, value):\n",
    "        print('key=%s,value=%s' % (key, value))\n",
    "\n",
    "zoo = Zoo()\n",
    "zoo['a'] = 'a'\n",
    "zoo['b'] = 'b'\n",
    "zoo['c'] = 'c'"
   ]
  },
  {
   "cell_type": "code",
   "execution_count": 44,
   "metadata": {},
   "outputs": [
    {
     "name": "stdout",
     "output_type": "stream",
     "text": [
      "delete item:key\n"
     ]
    }
   ],
   "source": [
    "# __delitem__\n",
    "\n",
    "class A:  \n",
    "    def __delitem__(self, key):  \n",
    "        print('delete item:%s' %key)\n",
    "    \n",
    "a = A()  \n",
    "del a['key'] "
   ]
  },
  {
   "cell_type": "code",
   "execution_count": null,
   "metadata": {},
   "outputs": [],
   "source": []
  }
 ],
 "metadata": {
  "kernelspec": {
   "display_name": "Python 3",
   "language": "python",
   "name": "python3"
  },
  "language_info": {
   "codemirror_mode": {
    "name": "ipython",
    "version": 3
   },
   "file_extension": ".py",
   "mimetype": "text/x-python",
   "name": "python",
   "nbconvert_exporter": "python",
   "pygments_lexer": "ipython3",
   "version": "3.8.3"
  }
 },
 "nbformat": 4,
 "nbformat_minor": 4
}
